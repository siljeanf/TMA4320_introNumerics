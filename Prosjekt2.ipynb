{
 "cells": [
  {
   "cell_type": "markdown",
   "metadata": {},
   "source": [
    "## VITBER - Fysikkprosjekt: Endimensjonale modeller for atomer, molekyler og krystaller\n"
   ]
  },
  {
   "cell_type": "code",
   "execution_count": 22,
   "metadata": {},
   "outputs": [
    {
     "name": "stdout",
     "output_type": "stream",
     "text": [
      "99\n"
     ]
    }
   ],
   "source": [
    "import numpy as np\n",
    "import scipy as sp\n",
    "import matplotlib.pyplot as plt\n",
    "from scipy.linalg import eigh_tridiagonal\n",
    "\n",
    "#Globale variabler\n",
    "h = 1.05457180013e-34   #plancks konstant\n",
    "L = 1e-9                #1 nanometer\n",
    "m = 9.109e-31           #elektronmassen\n",
    "#N = 1000                #antall punkter på bølgefunksjonen\n",
    "eV = 1.6*1e-19          #elektronvolt\n",
    "aa = 1e-10              #Åmstrøm\n",
    "delta_x = 0.1e-10       #delta_x konstant lik 1 nm\n",
    "\n",
    "N = int(L/delta_x - 1)\n",
    "print(N)\n"
   ]
  },
  {
   "cell_type": "markdown",
   "metadata": {},
   "source": [
    "## Oppgave 1: Partikkel i boks \n"
   ]
  },
  {
   "cell_type": "markdown",
   "metadata": {},
   "source": [
    "\"Partikkel i boks\" = uendelig dyp potensialbrønn der V(x) = 0 inni brønnen.\n",
    "Bruk potensialet til å sjekke at analytisk løsning av TUSL med egenverdier Ev og egenfunksjoner psi samsvarer med numerisk beregnede egenverdier og egenfunksjoner. \n",
    "Sjekk om egenfunksjonene er ortonormerte (ortogonal + normert) dvs. at (psi*psi.T) gir identitetsmatrisen.\n",
    "Sjekk også at egenfunksjonene danner et fullstendig sett dvs. at vi får identitetsmatrisen uten mye støy.\n",
    "\n",
    "Hvorfor skalerer vi?\n",
    "analytisk og numeriske verdier er skalert på ulike måter.\n",
    "analytisk bølgefunksjon er normert ut i fra kontinuerlig tilfelle, og numerisk bølgefunksjon er normert i det diskrete tilfellet. Dividerer da de numeriske løsningene på sqrt(delta_x).\n",
    "\n",
    "\\begin{equation}\n",
    "    H  = \\frac{h^2 }{m (\\Delta x)^2}.\n",
    "    \\label{einstein}\n",
    "\\end{equation}\n"
   ]
  },
  {
   "cell_type": "code",
   "execution_count": 66,
   "metadata": {},
   "outputs": [
    {
     "name": "stdout",
     "output_type": "stream",
     "text": [
      "Numerisk løsnings av Ψ\n",
      "Egenverdier, E=\n",
      " [3.76526592e-01 1.50573478e+00 3.38651017e+00 6.01699668e+00\n",
      " 9.39459831e+00 1.35159818e+01 1.83770798e+01 2.39730951e+01\n",
      " 3.02985050e+01 3.73470671e+01 4.51118253e+01 5.35851168e+01\n",
      " 6.27585794e+01 7.26231601e+01 8.31691237e+01 9.43860625e+01\n",
      " 1.06262907e+02 1.18787936e+02 1.31948789e+02 1.45732477e+02\n",
      " 1.60125398e+02 1.75113348e+02 1.90681536e+02 2.06814597e+02\n",
      " 2.23496610e+02 2.40711112e+02 2.58441114e+02 2.76669120e+02\n",
      " 2.95377140e+02 3.14546711e+02 3.34158916e+02 3.54194399e+02\n",
      " 3.74633389e+02 3.95455714e+02 4.16640825e+02 4.38167815e+02\n",
      " 4.60015439e+02 4.82162137e+02 5.04586052e+02 5.27265055e+02\n",
      " 5.50176764e+02 5.73298569e+02 5.96607650e+02 6.20081004e+02\n",
      " 6.43695467e+02 6.67427733e+02 6.91254382e+02 7.15151899e+02\n",
      " 7.39096701e+02 7.63065156e+02 7.87033612e+02 8.10978414e+02\n",
      " 8.34875931e+02 8.58702580e+02 8.82434846e+02 9.06049309e+02\n",
      " 9.29522663e+02 9.52831744e+02 9.75953548e+02 9.98865258e+02\n",
      " 1.02154426e+03 1.04396818e+03 1.06611487e+03 1.08796250e+03\n",
      " 1.10948949e+03 1.13067460e+03 1.15149692e+03 1.17193591e+03\n",
      " 1.19197140e+03 1.21158360e+03 1.23075317e+03 1.24946119e+03\n",
      " 1.26768920e+03 1.28541920e+03 1.30263370e+03 1.31931572e+03\n",
      " 1.33544878e+03 1.35101696e+03 1.36600491e+03 1.38039784e+03\n",
      " 1.39418152e+03 1.40734238e+03 1.41986741e+03 1.43174425e+03\n",
      " 1.44296119e+03 1.45350715e+03 1.46337173e+03 1.47254520e+03\n",
      " 1.48101849e+03 1.48878325e+03 1.49583181e+03 1.50215722e+03\n",
      " 1.50775323e+03 1.51261433e+03 1.51673571e+03 1.52011332e+03\n",
      " 1.52274380e+03 1.52462458e+03 1.52575379e+03] \n",
      " \n",
      " Egenvektorer, Ψ =\n",
      "  [[ 0.00444215 -0.00887992  0.01330893 ...  0.01330893 -0.00887992\n",
      "  -0.00444215]\n",
      " [ 0.00887992 -0.0177248   0.02649972 ... -0.02649972  0.0177248\n",
      "   0.00887992]\n",
      " [ 0.01330893 -0.02649972  0.0394553  ...  0.0394553  -0.02649972\n",
      "  -0.01330893]\n",
      " ...\n",
      " [ 0.01330893  0.02649972  0.0394553  ...  0.0394553   0.02649972\n",
      "  -0.01330893]\n",
      " [ 0.00887992  0.0177248   0.02649972 ... -0.02649972 -0.0177248\n",
      "   0.00887992]\n",
      " [ 0.00444215  0.00887992  0.01330893 ...  0.01330893  0.00887992\n",
      "  -0.00444215]]\n"
     ]
    }
   ],
   "source": [
    "#lager en diagonal og off-diagonal matrise\n",
    "\n",
    "#Potensialet er 0 inni boksen\n",
    "#N er antall målepunkter\n",
    "V = np.zeros(N)\n",
    "\n",
    "#diagonalvektor av matrisen H fra TUSL\n",
    "#Ev er numeriske egenverdier\n",
    "#psi er numeriske egenvektorer/egenfunksjoner\n",
    "\n",
    "def numerisk_TUSL(V,N):\n",
    "    const_diag = np.power(h,2)/( m* np.power(delta_x,2) )\n",
    "    const_off_diag = (-1/2)*const_diag\n",
    "\n",
    "    diag = (const_diag)*np.ones(N)+V \n",
    "    off_diag = (const_off_diag)*np.ones(N-1)\n",
    "\n",
    "    Ev, psi = sp.linalg.eigh_tridiagonal(diag, off_diag) #returnerer E (liste av egenverdier) og egenvektorene psi\n",
    "    \n",
    "    #skalerer egenvektorene slik at de er ortonormerte\n",
    "    #hvorfor dividerer vi med roten av delta x, men senere multipliserer med delta_x for å finne I\n",
    "    #psi = psi/(np.sqrt(delta_x))\n",
    "     \n",
    "    return Ev/eV, psi\n",
    "\n",
    "\n",
    "num_egenfunksjon = numerisk_TUSL(V,N)[1] \n",
    "num_egenverdi = numerisk_TUSL(V,N)[0]\n",
    "\n",
    "print(\"Numerisk løsnings av Ψ\")\n",
    "print(\"Egenverdier, E=\\n\", num_egenverdi, '\\n','\\n', \"Egenvektorer, Ψ =\\n \",num_egenfunksjon)\n"
   ]
  },
  {
   "cell_type": "code",
   "execution_count": 67,
   "metadata": {},
   "outputs": [
    {
     "name": "stdout",
     "output_type": "stream",
     "text": [
      "Analytisk løsning av egenverdiene = \n",
      " [3.76557561e-01 1.50623025e+00 3.38901805e+00 6.02492098e+00\n",
      " 9.41393903e+00 1.35560722e+01 1.84513205e+01 2.40996839e+01\n",
      " 3.05011625e+01 3.76557561e+01 4.55634649e+01 5.42242888e+01\n",
      " 6.36382279e+01 7.38052820e+01 8.47254513e+01 9.63987357e+01\n",
      " 1.08825135e+02 1.22004650e+02 1.35937280e+02 1.50623025e+02\n",
      " 1.66061885e+02 1.82253860e+02 1.99198950e+02 2.16897155e+02\n",
      " 2.35348476e+02 2.54552911e+02 2.74510462e+02 2.95221128e+02\n",
      " 3.16684909e+02 3.38901805e+02 3.61871816e+02 3.85594943e+02\n",
      " 4.10071184e+02 4.35300541e+02 4.61283013e+02 4.88018599e+02\n",
      " 5.15507301e+02 5.43749119e+02 5.72744051e+02 6.02492098e+02\n",
      " 6.32993261e+02 6.64247538e+02 6.96254931e+02 7.29015439e+02\n",
      " 7.62529062e+02 7.96795800e+02 8.31815653e+02 8.67588621e+02\n",
      " 9.04114705e+02 9.41393903e+02 9.79426217e+02 1.01821165e+03\n",
      " 1.05775019e+03 1.09804185e+03 1.13908662e+03 1.18088451e+03\n",
      " 1.22343552e+03 1.26673964e+03 1.31079687e+03 1.35560722e+03\n",
      " 1.40117069e+03 1.44748727e+03 1.49455696e+03 1.54237977e+03\n",
      " 1.59095570e+03 1.64028474e+03 1.69036689e+03 1.74120216e+03\n",
      " 1.79279055e+03 1.84513205e+03 1.89822667e+03 1.95207440e+03\n",
      " 2.00667524e+03 2.06202921e+03 2.11813628e+03 2.17499647e+03\n",
      " 2.23260978e+03 2.29097620e+03 2.35009574e+03 2.40996839e+03\n",
      " 2.47059416e+03 2.53197304e+03 2.59410504e+03 2.65699015e+03\n",
      " 2.72062838e+03 2.78501972e+03 2.85016418e+03 2.91606175e+03\n",
      " 2.98271244e+03 3.05011625e+03 3.11827317e+03 3.18718320e+03\n",
      " 3.25684635e+03 3.32726261e+03 3.39843199e+03 3.47035449e+03\n",
      " 3.54303009e+03 3.61645882e+03 3.69064066e+03]\n",
      "\n",
      "\n",
      "Analytisk løsning av Ψ egenvektorene = \n",
      " [[ 0.00000000e+00  1.43339012e+03  2.86530734e+03 ...  2.86530734e+03\n",
      "   1.43339012e+03  5.47678698e-12]\n",
      " [ 0.00000000e+00  2.86530734e+03  5.71884053e+03 ... -5.71884053e+03\n",
      "  -2.86530734e+03 -1.09535740e-11]\n",
      " [ 0.00000000e+00  4.29428027e+03  8.54887377e+03 ...  8.54887377e+03\n",
      "   4.29428027e+03  1.64303609e-11]\n",
      " ...\n",
      " [ 0.00000000e+00  1.43339012e+03 -2.86530734e+03 ... -2.86530734e+03\n",
      "   1.43339012e+03  1.00789489e-09]\n",
      " [ 0.00000000e+00  2.53370602e-11 -5.06741204e-11 ... -3.06788652e-09\n",
      "   3.55000987e-09 -1.49001824e-09]\n",
      " [ 0.00000000e+00 -1.43339012e+03  2.86530734e+03 ...  2.86530734e+03\n",
      "  -1.43339012e+03 -5.69973389e-10]]\n"
     ]
    }
   ],
   "source": [
    "#Analystisk_løsning av TUSL\n",
    "\n",
    "x = np.linspace(0,L,N)\n",
    "\n",
    "def analytisk_TUSL(x,N):\n",
    "    k = np.zeros(N) #bølgetall\n",
    "    Eva = np.zeros(N) #energiegenverdiene\n",
    "    \n",
    "    for i in range(0,N):\n",
    "        k[i] = ((i+1)*np.pi)/L\n",
    "        Eva[i] = ( np.power(h,2) * np.power(k[i],2) ) / (2*m)\n",
    "    \n",
    "    psi_a = np.empty((N,N)) #lager en tom matrise med N elementer for analytisk løsning \n",
    "\n",
    "    for j in range(0,N):    \n",
    "        psi_a[j] = np.sqrt(2/L)*np.sin(k[j]*x)\n",
    "        \n",
    "    return Eva/eV, psi_a, \n",
    "\n",
    "\n",
    "anal_egenverdi = analytisk_TUSL(x,N)[0]\n",
    "anal_egenfunksjon = analytisk_TUSL(x,N)[1]\n",
    "\n",
    "print(\"Analytisk løsning av egenverdiene = \\n\", anal_egenverdi)\n",
    "print(\"\\n\")\n",
    "print(\"Analytisk løsning av Ψ egenvektorene = \\n\", anal_egenfunksjon)\n",
    "\n"
   ]
  },
  {
   "cell_type": "code",
   "execution_count": 68,
   "metadata": {},
   "outputs": [
    {
     "data": {
      "image/png": "[encoded data removed]",
      "text/plain": [
       "<Figure size 432x288 with 1 Axes>"
      ]
     },
     "metadata": {
      "needs_background": "light"
     },
     "output_type": "display_data"
    }
   ],
   "source": [
    "#Plotting av numeriske egenvektorer og egenverdier mot analytisk løsning av TUSL\n",
    "\n",
    "x = np.linspace(0,L,N) #x-verdier i intervallet potensialbrønnens lengde\n",
    "\n",
    "#Plotter egenvektorene\n",
    "plt.figure()\n",
    "plt.title(\"Numerisk egenfunksjon Ψ\")\n",
    "\n",
    "#Egenvektorene er kolonnene i psi-matrisen (= egenfunksjonene)\n",
    "plt.plot(x, num_egenfunksjon[:,0])\n",
    "plt.plot(x, anal_egenfunksjon[0] , label = \"analytisk grunntilstand\")\n",
    "plt.plot(x, -num_egenfunksjon[:,1]) #OBS: må snu numerisk egenfunksjon pga. den har negative verdier!!!\n",
    "plt.plot(x, anal_egenfunksjon[1], marker = '*', label = \"analytisk 1.eksiterte tilstand\")\n",
    "plt.plot(x, num_egenfunksjon[:,2])\n",
    "plt.plot(x, anal_egenfunksjon[2], marker = '*', label = \"analytisk 2.eksiterte tilstand\")\n",
    "plt.plot(x, num_egenfunksjon[:,3])\n",
    "plt.plot(x, anal_egenfunksjon[3], marker = '*', label = \"analytisk 3.eksiterte tilstand\")\n",
    "#plt.axhline(0)\n",
    "plt.show()\n",
    "\n",
    "#skal man plotte egenverdier?\n"
   ]
  },
  {
   "cell_type": "code",
   "execution_count": 69,
   "metadata": {},
   "outputs": [
    {
     "name": "stdout",
     "output_type": "stream",
     "text": [
      "[[ 1.00000000e+00 -2.65114304e-16 -1.15049633e-14 ... -1.48296241e-17\n",
      "  -8.75874138e-18 -6.75219262e-17]\n",
      " [-2.65114304e-16  1.00000000e+00 -3.14223471e-14 ...  8.58899354e-19\n",
      "  -7.78409761e-18 -1.96585294e-17]\n",
      " [-1.15049633e-14 -3.14223471e-14  1.00000000e+00 ...  2.94764768e-17\n",
      "   4.68328124e-17 -1.15650779e-17]\n",
      " ...\n",
      " [-1.48296241e-17  8.58899354e-19  2.94764768e-17 ...  1.00000000e+00\n",
      "   1.83650424e-16  1.93922124e-16]\n",
      " [-8.75874138e-18 -7.78409761e-18  4.68328124e-17 ...  1.83650424e-16\n",
      "   1.00000000e+00  6.20740264e-17]\n",
      " [-6.75219262e-17 -1.96585294e-17 -1.15650779e-17 ...  1.93922124e-16\n",
      "   6.20740264e-17  1.00000000e+00]]\n"
     ]
    },
    {
     "data": {
      "image/png": "[encoded data removed]",
      "text/plain": [
       "<Figure size 288x288 with 2 Axes>"
      ]
     },
     "metadata": {
      "needs_background": "light"
     },
     "output_type": "display_data"
    },
    {
     "data": {
      "image/png": "[encoded data removed]",
      "text/plain": [
       "<Figure size 288x288 with 2 Axes>"
      ]
     },
     "metadata": {
      "needs_background": "light"
     },
     "output_type": "display_data"
    }
   ],
   "source": [
    "#sjekker om egenfunksjonene er ortonormerte\n",
    "print (num_egenfunksjon.T @ num_egenfunksjon)\n",
    "\n",
    "#dobbeltsjekker at vi har fått identitetsmatrisen\n",
    "plt.matshow(num_egenfunksjon.T@num_egenfunksjon) \n",
    "plt.colorbar()\n",
    "plt.show()\n",
    "\n",
    "plt.matshow(np.identity(N) - num_egenfunksjon.T@num_egenfunksjon)  #støy\n",
    "plt.colorbar()\n",
    "plt.show()\n",
    "#fullstendig sett når vi får identitetsmatrisen her"
   ]
  },
  {
   "cell_type": "code",
   "execution_count": 70,
   "metadata": {},
   "outputs": [],
   "source": [
    "#regner ut avvik mellom numerisk og analytisk beregnet egenverdier\n",
    "\n",
    "avvik_egenverdier= (anal_egenverdi - num_egenverdi)\n",
    "\n",
    "avvik_egenvektorer = (anal_egenfunksjon.T - num_egenfunksjon)\n",
    "\n",
    "#print(\"Avvik for analytisk og numerisk beregnede egenvektorer:\\n \", avvik_egenvektorer)\n",
    "#print(\"\\n\")\n",
    "#print(\"Avvik for analytisk og numerisk beregnede egenverdier:\\n \",avvik_egenverdier)\n"
   ]
  },
  {
   "cell_type": "markdown",
   "metadata": {},
   "source": [
    "## Oppgave 2: Atomer\n"
   ]
  },
  {
   "cell_type": "markdown",
   "metadata": {},
   "source": [
    "En endimensjonal modell for et atom er er en endelig potensialbrønn med dybde V_o og bredde omega. Vi ser på et område med bredde minst 10*omega på hver side av atomer der potensialet er 0 utenfor brønnen.\n",
    "a)\n",
    "Velger passende verdier for V_0 og omega slik at atomer har tre bundne tilstander.\n",
    "Verifiser at bølgefunksjonene har fornuftige egenskapet mhp. symmetri og bølgelengder i det klassiske tillate område.\n",
    "Sammenlign de beregnde egennivåene E med analytiske løsninger\n",
    "Verifiser at beregningene gir et \"kvasikontinuerlig\" spektrum av ubundne tilstander med E>0, dvs. ....?\n",
    "Sjekk en ubundet tilstand og vis at bølgelengdene er i samsvar med elektronets kinetiske energi i og utenfor brønnområdet.\n",
    "\n",
    "b)\n"
   ]
  },
  {
   "cell_type": "code",
   "execution_count": 101,
   "metadata": {},
   "outputs": [
    {
     "name": "stdout",
     "output_type": "stream",
     "text": [
      "V0 er:  -16.73589161445443\n",
      "brønnbredde =  3e-10\n",
      "lengden på området =  6.3e-09\n",
      "antall målepunkter N = 629\n"
     ]
    }
   ],
   "source": [
    "#Potensialbrønn med negativt potensial (dybde). Null der potensialbrønnen slutter (v/bakken)\n",
    "\n",
    "#snur formelen i PCH 3.33 til å være avh av n antall bundne tilstander\n",
    "#w/2 er halve bønnbredden\n",
    "\n",
    "w = 3*aa \n",
    "L_2 = 21*w\n",
    "N_2 = int((L_2/delta_x) - 1)\n",
    "\n",
    "def finnV0(n):\n",
    "    V_0 =  np.power( ((n-1)*h*np.pi),2) / (8*m*np.power(w/2,2) )\n",
    "            \n",
    "    return -V_0/eV\n",
    "\n",
    "V0 = finnV0(3)\n",
    "    \n",
    "print(\"V0 er: \", V0)\n",
    "print('brønnbredde = ', w)\n",
    "print('lengden på området = ', L_2)\n",
    "print( 'antall målepunkter N =', N_2)"
   ]
  },
  {
   "cell_type": "code",
   "execution_count": 99,
   "metadata": {},
   "outputs": [
    {
     "name": "stdout",
     "output_type": "stream",
     "text": [
      "629\n"
     ]
    },
    {
     "ename": "ValueError",
     "evalue": "The truth value of an array with more than one element is ambiguous. Use a.any() or a.all()",
     "output_type": "error",
     "traceback": [
      "\u001b[0;31m---------------------------------------------------------------------------\u001b[0m",
      "\u001b[0;31mValueError\u001b[0m                                Traceback (most recent call last)",
      "\u001b[0;32m<ipython-input-99-1662d15d98e0>\u001b[0m in \u001b[0;36m<module>\u001b[0;34m\u001b[0m\n\u001b[1;32m     10\u001b[0m     \u001b[0;32mreturn\u001b[0m \u001b[0mnp\u001b[0m\u001b[0;34m.\u001b[0m\u001b[0mwhere\u001b[0m\u001b[0;34m(\u001b[0m \u001b[0;34m(\u001b[0m\u001b[0mx\u001b[0m \u001b[0;34m>\u001b[0m \u001b[0mL_2\u001b[0m\u001b[0;34m/\u001b[0m\u001b[0;36m2\u001b[0m \u001b[0;34m-\u001b[0m \u001b[0mw\u001b[0m\u001b[0;34m/\u001b[0m\u001b[0;36m2\u001b[0m\u001b[0;34m)\u001b[0m \u001b[0;32mand\u001b[0m \u001b[0;34m(\u001b[0m\u001b[0mx\u001b[0m \u001b[0;34m<\u001b[0m \u001b[0mL_2\u001b[0m\u001b[0;34m/\u001b[0m\u001b[0;36m2\u001b[0m \u001b[0;34m+\u001b[0m \u001b[0mw\u001b[0m\u001b[0;34m/\u001b[0m\u001b[0;36m2\u001b[0m\u001b[0;34m)\u001b[0m\u001b[0;34m,\u001b[0m \u001b[0mV0\u001b[0m\u001b[0;34m,\u001b[0m \u001b[0;36m0\u001b[0m \u001b[0;34m)\u001b[0m\u001b[0;34m\u001b[0m\u001b[0;34m\u001b[0m\u001b[0m\n\u001b[1;32m     11\u001b[0m \u001b[0;34m\u001b[0m\u001b[0m\n\u001b[0;32m---> 12\u001b[0;31m \u001b[0mV_2\u001b[0m \u001b[0;34m=\u001b[0m \u001b[0mVvec\u001b[0m\u001b[0;34m(\u001b[0m\u001b[0mx2\u001b[0m\u001b[0;34m)\u001b[0m\u001b[0;34m\u001b[0m\u001b[0;34m\u001b[0m\u001b[0m\n\u001b[0m\u001b[1;32m     13\u001b[0m \u001b[0mprint\u001b[0m\u001b[0;34m(\u001b[0m\u001b[0mlen\u001b[0m\u001b[0;34m(\u001b[0m\u001b[0mV_2\u001b[0m\u001b[0;34m)\u001b[0m\u001b[0;34m)\u001b[0m\u001b[0;34m\u001b[0m\u001b[0;34m\u001b[0m\u001b[0m\n\u001b[1;32m     14\u001b[0m \u001b[0;34m\u001b[0m\u001b[0m\n",
      "\u001b[0;32m<ipython-input-99-1662d15d98e0>\u001b[0m in \u001b[0;36mVvec\u001b[0;34m(x)\u001b[0m\n\u001b[1;32m      8\u001b[0m \u001b[0;31m#lager potensialvektoren\u001b[0m\u001b[0;34m\u001b[0m\u001b[0;34m\u001b[0m\u001b[0;34m\u001b[0m\u001b[0m\n\u001b[1;32m      9\u001b[0m \u001b[0;32mdef\u001b[0m \u001b[0mVvec\u001b[0m\u001b[0;34m(\u001b[0m\u001b[0mx\u001b[0m\u001b[0;34m)\u001b[0m\u001b[0;34m:\u001b[0m\u001b[0;34m\u001b[0m\u001b[0;34m\u001b[0m\u001b[0m\n\u001b[0;32m---> 10\u001b[0;31m     \u001b[0;32mreturn\u001b[0m \u001b[0mnp\u001b[0m\u001b[0;34m.\u001b[0m\u001b[0mwhere\u001b[0m\u001b[0;34m(\u001b[0m \u001b[0;34m(\u001b[0m\u001b[0mx\u001b[0m \u001b[0;34m>\u001b[0m \u001b[0mL_2\u001b[0m\u001b[0;34m/\u001b[0m\u001b[0;36m2\u001b[0m \u001b[0;34m-\u001b[0m \u001b[0mw\u001b[0m\u001b[0;34m/\u001b[0m\u001b[0;36m2\u001b[0m\u001b[0;34m)\u001b[0m \u001b[0;32mand\u001b[0m \u001b[0;34m(\u001b[0m\u001b[0mx\u001b[0m \u001b[0;34m<\u001b[0m \u001b[0mL_2\u001b[0m\u001b[0;34m/\u001b[0m\u001b[0;36m2\u001b[0m \u001b[0;34m+\u001b[0m \u001b[0mw\u001b[0m\u001b[0;34m/\u001b[0m\u001b[0;36m2\u001b[0m\u001b[0;34m)\u001b[0m\u001b[0;34m,\u001b[0m \u001b[0mV0\u001b[0m\u001b[0;34m,\u001b[0m \u001b[0;36m0\u001b[0m \u001b[0;34m)\u001b[0m\u001b[0;34m\u001b[0m\u001b[0;34m\u001b[0m\u001b[0m\n\u001b[0m\u001b[1;32m     11\u001b[0m \u001b[0;34m\u001b[0m\u001b[0m\n\u001b[1;32m     12\u001b[0m \u001b[0mV_2\u001b[0m \u001b[0;34m=\u001b[0m \u001b[0mVvec\u001b[0m\u001b[0;34m(\u001b[0m\u001b[0mx2\u001b[0m\u001b[0;34m)\u001b[0m\u001b[0;34m\u001b[0m\u001b[0;34m\u001b[0m\u001b[0m\n",
      "\u001b[0;31mValueError\u001b[0m: The truth value of an array with more than one element is ambiguous. Use a.any() or a.all()"
     ]
    }
   ],
   "source": [
    "#n er antall brønner\n",
    "#N er antall målepunkter\n",
    "\n",
    "#Lager potensialbrønnen\n",
    "x2 = np.linspace(0,L_2,N_2)\n",
    "print(len(x2))\n",
    "\n",
    "#lager potensialvektoren\n",
    "def Vvec(x):\n",
    "    return np.where( (x > L_2/2 - w/2) and (x < L_2/2 + w/2), V0, 0 )\n",
    "\n",
    "V_2 = Vvec(x2)\n",
    "print(len(V_2))\n",
    "\n",
    "#num_egenverdier_atom = numerisk_TUSL(V_2, N_2)[0]\n",
    "#num_egenfunksjoner_atom = numerisk_TUSL(V_2, N_2)[1]\n",
    "\n",
    "#print(\"Numeriske egenverdier i potensialbrønnen:\\n \", num_egenverdier_atom)\n",
    "#print(\"Numeriske egenfunksjoner i potensialbrønnen:\\n \", num_egenfunksjoner_atom)"
   ]
  },
  {
   "cell_type": "code",
   "execution_count": 100,
   "metadata": {
    "scrolled": true
   },
   "outputs": [
    {
     "ename": "NameError",
     "evalue": "name 'Pot_vektor_a' is not defined",
     "output_type": "error",
     "traceback": [
      "\u001b[0;31m---------------------------------------------------------------------------\u001b[0m",
      "\u001b[0;31mNameError\u001b[0m                                 Traceback (most recent call last)",
      "\u001b[0;32m<ipython-input-100-4eb47d6a4615>\u001b[0m in \u001b[0;36m<module>\u001b[0;34m\u001b[0m\n\u001b[1;32m      5\u001b[0m \u001b[0mplt\u001b[0m\u001b[0;34m.\u001b[0m\u001b[0mtitle\u001b[0m\u001b[0;34m(\u001b[0m\u001b[0;34m\"Enkel potensialbrønn: egenverdier\"\u001b[0m\u001b[0;34m)\u001b[0m\u001b[0;34m\u001b[0m\u001b[0;34m\u001b[0m\u001b[0m\n\u001b[1;32m      6\u001b[0m \u001b[0;34m\u001b[0m\u001b[0m\n\u001b[0;32m----> 7\u001b[0;31m \u001b[0mplt\u001b[0m\u001b[0;34m.\u001b[0m\u001b[0mplot\u001b[0m\u001b[0;34m(\u001b[0m\u001b[0mPot_vektor_a\u001b[0m\u001b[0;34m/\u001b[0m\u001b[0meV\u001b[0m\u001b[0;34m)\u001b[0m\u001b[0;34m\u001b[0m\u001b[0;34m\u001b[0m\u001b[0m\n\u001b[0m\u001b[1;32m      8\u001b[0m \u001b[0mplt\u001b[0m\u001b[0;34m.\u001b[0m\u001b[0maxhline\u001b[0m\u001b[0;34m(\u001b[0m\u001b[0mnum_egenverdier_atom\u001b[0m\u001b[0;34m[\u001b[0m\u001b[0;36m0\u001b[0m\u001b[0;34m]\u001b[0m\u001b[0;34m,\u001b[0m \u001b[0mcolor\u001b[0m\u001b[0;34m=\u001b[0m\u001b[0;34m'r'\u001b[0m\u001b[0;34m)\u001b[0m\u001b[0;34m\u001b[0m\u001b[0;34m\u001b[0m\u001b[0m\n\u001b[1;32m      9\u001b[0m \u001b[0mplt\u001b[0m\u001b[0;34m.\u001b[0m\u001b[0maxhline\u001b[0m\u001b[0;34m(\u001b[0m\u001b[0mnum_egenverdier_atom\u001b[0m\u001b[0;34m[\u001b[0m\u001b[0;36m1\u001b[0m\u001b[0;34m]\u001b[0m\u001b[0;34m,\u001b[0m \u001b[0mcolor\u001b[0m\u001b[0;34m=\u001b[0m\u001b[0;34m'g'\u001b[0m\u001b[0;34m)\u001b[0m\u001b[0;34m\u001b[0m\u001b[0;34m\u001b[0m\u001b[0m\n",
      "\u001b[0;31mNameError\u001b[0m: name 'Pot_vektor_a' is not defined"
     ]
    },
    {
     "data": {
      "image/png": "[encoded data removed]",
      "text/plain": [
       "<Figure size 432x288 with 1 Axes>"
      ]
     },
     "metadata": {
      "needs_background": "light"
     },
     "output_type": "display_data"
    }
   ],
   "source": [
    "\n",
    "\n",
    "#numerisk egenverdier\n",
    "plt.figure()\n",
    "plt.title(\"Enkel potensialbrønn: egenverdier\")\n",
    "\n",
    "plt.plot(Pot_vektor_a/eV)\n",
    "plt.axhline(num_egenverdier_atom[0], color='r')\n",
    "plt.axhline(num_egenverdier_atom[1], color='g')\n",
    "plt.axhline(num_egenverdier_atom[2], color='y')\n",
    "for i in range(3,15):\n",
    "    plt.axhline(num_egenverdier_atom[i])\n",
    "plt.show()\n",
    "\n",
    "#numerisk egenvektorer\n",
    "plt.figure()\n",
    "plt.title(\"Enkel potensialbrønn: egenfunksjoner\")\n",
    "plt.plot(x_2, num_egenfunksjoner_atom[:,0], label= \"grunntilstand\")\n",
    "plt.plot(x_2, num_egenfunksjoner_atom[:,1], label= \"1.eksiterte tilstand\")\n",
    "plt.plot(x_2, num_egenfunksjoner_atom[:,2], label= \"2.eksiterte tilstand\")\n",
    "plt.show()(\n",
    "\n",
    "print(num_egenverdier_atom[0], ' .', num_egenverdier_atom[1], ' . ',num_egenverdier_atom[2]))\n"
   ]
  },
  {
   "cell_type": "markdown",
   "metadata": {},
   "source": [
    "Latex: skriv tan() formel og sjekk at det stemmer overens, da stemmer de numeriske verdiene med de analytiske\n"
   ]
  },
  {
   "cell_type": "markdown",
   "metadata": {},
   "source": [
    "## Oppgave 3 Molekyler\n"
   ]
  },
  {
   "cell_type": "markdown",
   "metadata": {},
   "source": [
    "Studere toatomig molekyl som bestsår av to potensialbrønner med samme dybde V_0 og bredde omega.\n",
    "Potensialbrønnene er adskilt av et område med null potensial V og bredd b. Se på et omnråde med null potensial og bredde minst 10*omega på hver side av molekylet\n",
    "\n",
    "Sett verdier for V_0, b og omega.\n",
    "Hva gir en slik modell for bindingsenergien til molekylene H_2 og He_2  (bindingsenergien vil si energidifferansen mellom to separate atomer og det toatomige molekylet)\n",
    "Er dette i samsvar (kvalitativt) med den virkelige verden?"
   ]
  },
  {
   "cell_type": "code",
   "execution_count": 76,
   "metadata": {},
   "outputs": [
    {
     "ename": "NameError",
     "evalue": "name 'omega' is not defined",
     "output_type": "error",
     "traceback": [
      "\u001b[0;31m---------------------------------------------------------------------------\u001b[0m",
      "\u001b[0;31mNameError\u001b[0m                                 Traceback (most recent call last)",
      "\u001b[0;32m<ipython-input-76-92ed10311a46>\u001b[0m in \u001b[0;36m<module>\u001b[0;34m\u001b[0m\n\u001b[1;32m      2\u001b[0m \u001b[0;34m\u001b[0m\u001b[0m\n\u001b[1;32m      3\u001b[0m \u001b[0mN_3\u001b[0m \u001b[0;34m=\u001b[0m \u001b[0;36m500\u001b[0m\u001b[0;34m+\u001b[0m\u001b[0;36m50\u001b[0m\u001b[0;34m+\u001b[0m\u001b[0;36m5\u001b[0m\u001b[0;34m+\u001b[0m\u001b[0;36m50\u001b[0m\u001b[0;34m+\u001b[0m\u001b[0;36m500\u001b[0m \u001b[0;31m#to brønner bredde 50 og en bredde 5 mellom dem + 500 på hver side\u001b[0m\u001b[0;34m\u001b[0m\u001b[0;34m\u001b[0m\u001b[0m\n\u001b[0;32m----> 4\u001b[0;31m \u001b[0mL_3\u001b[0m \u001b[0;34m=\u001b[0m \u001b[0momega\u001b[0m\u001b[0;34m*\u001b[0m\u001b[0;36m22.1\u001b[0m\u001b[0;34m\u001b[0m\u001b[0;34m\u001b[0m\u001b[0m\n\u001b[0m\u001b[1;32m      5\u001b[0m \u001b[0mx_3\u001b[0m \u001b[0;34m=\u001b[0m \u001b[0mnp\u001b[0m\u001b[0;34m.\u001b[0m\u001b[0mlinspace\u001b[0m\u001b[0;34m(\u001b[0m\u001b[0;36m0\u001b[0m\u001b[0;34m,\u001b[0m\u001b[0mL_3\u001b[0m\u001b[0;34m,\u001b[0m\u001b[0mN_3\u001b[0m\u001b[0;34m)\u001b[0m\u001b[0;34m\u001b[0m\u001b[0;34m\u001b[0m\u001b[0m\n\u001b[1;32m      6\u001b[0m \u001b[0;34m\u001b[0m\u001b[0m\n",
      "\u001b[0;31mNameError\u001b[0m: name 'omega' is not defined"
     ]
    }
   ],
   "source": [
    "#Lager to potensialbrønner\n",
    "\n",
    "N_3 = 500+50+5+50+500 #to brønner bredde 50 og en bredde 5 mellom dem + 500 på hver side\n",
    "L_3 = omega*22.1 \n",
    "x_3 = np.linspace(0,L_3,N_3)\n",
    "\n",
    "c = int(500)\n",
    "d = int(550)\n",
    "e = int(555)\n",
    "f = int(605)\n",
    "\n",
    "V_3 =np.zeros(N_3)\n",
    "V_3[c:d] = V_0 #første brønn\n",
    "V_3[e:f] = V_0 #andre brønn\n",
    "\n",
    "\n",
    "num_egenverdier_mol = numerisk_TUSL(V_3,N_3,L_3)[0]\n",
    "num_egenfunksjoner_mol = numerisk_TUSL(V_3, N_3, L_3)[1]\n"
   ]
  },
  {
   "cell_type": "code",
   "execution_count": 20,
   "metadata": {},
   "outputs": [
    {
     "ename": "NameError",
     "evalue": "name 'V_3' is not defined",
     "output_type": "error",
     "traceback": [
      "\u001b[0;31m---------------------------------------------------------------------------\u001b[0m",
      "\u001b[0;31mNameError\u001b[0m                                 Traceback (most recent call last)",
      "\u001b[0;32m<ipython-input-20-8a2f0fdb08ed>\u001b[0m in \u001b[0;36m<module>\u001b[0;34m\u001b[0m\n\u001b[1;32m      4\u001b[0m \u001b[0;34m\u001b[0m\u001b[0m\n\u001b[1;32m      5\u001b[0m \u001b[0;31m#numeriske egenverdier\u001b[0m\u001b[0;34m\u001b[0m\u001b[0;34m\u001b[0m\u001b[0;34m\u001b[0m\u001b[0m\n\u001b[0;32m----> 6\u001b[0;31m \u001b[0mplt\u001b[0m\u001b[0;34m.\u001b[0m\u001b[0mplot\u001b[0m\u001b[0;34m(\u001b[0m\u001b[0mV_3\u001b[0m\u001b[0;34m/\u001b[0m\u001b[0meV\u001b[0m\u001b[0;34m)\u001b[0m\u001b[0;34m\u001b[0m\u001b[0;34m\u001b[0m\u001b[0m\n\u001b[0m\u001b[1;32m      7\u001b[0m \u001b[0mplt\u001b[0m\u001b[0;34m.\u001b[0m\u001b[0mxlim\u001b[0m\u001b[0;34m(\u001b[0m\u001b[0;36m450\u001b[0m\u001b[0;34m,\u001b[0m\u001b[0;36m650\u001b[0m\u001b[0;34m)\u001b[0m\u001b[0;34m\u001b[0m\u001b[0;34m\u001b[0m\u001b[0m\n\u001b[1;32m      8\u001b[0m \u001b[0mplt\u001b[0m\u001b[0;34m.\u001b[0m\u001b[0maxhline\u001b[0m\u001b[0;34m(\u001b[0m\u001b[0mnum_egenverdier_mol\u001b[0m\u001b[0;34m[\u001b[0m\u001b[0;36m0\u001b[0m\u001b[0;34m]\u001b[0m\u001b[0;34m,\u001b[0m \u001b[0mcolor\u001b[0m\u001b[0;34m=\u001b[0m\u001b[0;34m'r'\u001b[0m\u001b[0;34m)\u001b[0m\u001b[0;34m\u001b[0m\u001b[0;34m\u001b[0m\u001b[0m\n",
      "\u001b[0;31mNameError\u001b[0m: name 'V_3' is not defined"
     ]
    },
    {
     "data": {
      "image/png": "[encoded data removed]",
      "text/plain": [
       "<Figure size 432x288 with 1 Axes>"
      ]
     },
     "metadata": {
      "needs_background": "light"
     },
     "output_type": "display_data"
    }
   ],
   "source": [
    "#plotter brønnen\n",
    "plt.figure()\n",
    "plt.title(\"Dobbel potensialbrønn: egenfunksjoner\")\n",
    "\n",
    "#numeriske egenverdier\n",
    "plt.plot(V_3/eV)\n",
    "plt.xlim(450,650)\n",
    "plt.axhline(num_egenverdier_mol[0], color='r')\n",
    "plt.axhline(num_egenverdier_mol[1], color='g')\n",
    "plt.axhline(num_egenverdier_mol[2], color='b')\n",
    "plt.axhline(num_egenverdier_mol[3], color='y')\n",
    "plt.axhline(num_egenverdier_mol[4])\n",
    "plt.axhline(num_egenverdier_mol[5])\n",
    "plt.axhline(num_egenverdier_mol[6])\n",
    "plt.show()\n",
    "\n",
    "#numeriske egenfunksjoner\n",
    "plt.figure()\n",
    "#plt.xlim(0.2e-8,0.4e-8)\n",
    "plt.title(\"Dobbel Potensialbrønn: egenfunksjoner\")\n",
    "plt.plot(x_3, num_egenfunksjoner_mol[:,0], label= \"grunntilstand\")\n",
    "plt.plot(x_3, num_egenfunksjoner_mol[:,1], label= \"1.eksiterte tilstand\")\n",
    "plt.plot(x_3, num_egenfunksjoner_mol[:,2], label= \"2.eksiterte tilstand\")\n",
    "plt.show()"
   ]
  },
  {
   "cell_type": "markdown",
   "metadata": {},
   "source": [
    "Bindingsenergi for H2 og He2:\n",
    "Bindingsenergi er differansen mellom energien for summen av energien til atomene og for det toatomige molekylet"
   ]
  },
  {
   "cell_type": "code",
   "execution_count": 21,
   "metadata": {},
   "outputs": [
    {
     "ename": "NameError",
     "evalue": "name 'num_egenverdier_atom' is not defined",
     "output_type": "error",
     "traceback": [
      "\u001b[0;31m---------------------------------------------------------------------------\u001b[0m",
      "\u001b[0;31mNameError\u001b[0m                                 Traceback (most recent call last)",
      "\u001b[0;32m<ipython-input-21-88b2f3f56a41>\u001b[0m in \u001b[0;36m<module>\u001b[0;34m\u001b[0m\n\u001b[1;32m      1\u001b[0m \u001b[0;31m#bindingsenergi for H2\u001b[0m\u001b[0;34m\u001b[0m\u001b[0;34m\u001b[0m\u001b[0;34m\u001b[0m\u001b[0m\n\u001b[0;32m----> 2\u001b[0;31m \u001b[0mbindingsenergi_h2\u001b[0m \u001b[0;34m=\u001b[0m \u001b[0;36m2\u001b[0m\u001b[0;34m*\u001b[0m\u001b[0mnum_egenverdier_atom\u001b[0m\u001b[0;34m[\u001b[0m\u001b[0;36m0\u001b[0m\u001b[0;34m]\u001b[0m \u001b[0;34m-\u001b[0m \u001b[0;36m2\u001b[0m\u001b[0;34m*\u001b[0m\u001b[0mnum_egenverdier_mol\u001b[0m\u001b[0;34m[\u001b[0m\u001b[0;36m0\u001b[0m\u001b[0;34m]\u001b[0m\u001b[0;34m\u001b[0m\u001b[0;34m\u001b[0m\u001b[0m\n\u001b[0m\u001b[1;32m      3\u001b[0m \u001b[0;34m\u001b[0m\u001b[0m\n\u001b[1;32m      4\u001b[0m \u001b[0mbindingsenergi_he2\u001b[0m \u001b[0;34m=\u001b[0m \u001b[0;36m4\u001b[0m\u001b[0;34m*\u001b[0m\u001b[0mnum_egenverdier_atom\u001b[0m\u001b[0;34m[\u001b[0m\u001b[0;36m0\u001b[0m\u001b[0;34m]\u001b[0m \u001b[0;34m-\u001b[0m \u001b[0;36m2\u001b[0m\u001b[0;34m*\u001b[0m\u001b[0;34m(\u001b[0m\u001b[0mnum_egenverdier_mol\u001b[0m\u001b[0;34m[\u001b[0m\u001b[0;36m1\u001b[0m\u001b[0;34m]\u001b[0m\u001b[0;34m+\u001b[0m \u001b[0mnum_egenverdier_mol\u001b[0m\u001b[0;34m[\u001b[0m\u001b[0;36m0\u001b[0m\u001b[0;34m]\u001b[0m \u001b[0;34m)\u001b[0m\u001b[0;34m\u001b[0m\u001b[0;34m\u001b[0m\u001b[0m\n\u001b[1;32m      5\u001b[0m \u001b[0;34m\u001b[0m\u001b[0m\n",
      "\u001b[0;31mNameError\u001b[0m: name 'num_egenverdier_atom' is not defined"
     ]
    }
   ],
   "source": [
    "#bindingsenergi for H2\n",
    "bindingsenergi_h2 = 2*num_egenverdier_atom[0] - 2*num_egenverdier_mol[0]\n",
    "\n",
    "bindingsenergi_he2 = 4*num_egenverdier_atom[0] - 2*(num_egenverdier_mol[1]+ num_egenverdier_mol[0] )\n",
    "                                                    \n",
    "print(\"Bindingsenergien til H2-molekylet er: \", bindingsenergi_h2, \" eV\")\n",
    "print(\"Bindingsenergien til He2-molekylet er: \", bindingsenergi_he2, \" eV\")\n"
   ]
  },
  {
   "cell_type": "markdown",
   "metadata": {},
   "source": [
    "## Oppgave 4b) : Krystaller"
   ]
  },
  {
   "cell_type": "markdown",
   "metadata": {},
   "source": [
    "Finn båndbredden for ulike n-brønner og sammenligne.\n",
    "Båndbredde: differansen mellom største og minste energinivå\n",
    "båndbredden er differansen mellom En-E_0.\n",
    "Skal plottes med x-aksen (antall brønner) og y-aksen(energinivå)\n",
    "\n"
   ]
  },
  {
   "cell_type": "code",
   "execution_count": 13,
   "metadata": {},
   "outputs": [
    {
     "ename": "NameError",
     "evalue": "name 'omega' is not defined",
     "output_type": "error",
     "traceback": [
      "\u001b[0;31m---------------------------------------------------------------------------\u001b[0m",
      "\u001b[0;31mNameError\u001b[0m                                 Traceback (most recent call last)",
      "\u001b[0;32m<ipython-input-13-13f0f2c345ee>\u001b[0m in \u001b[0;36m<module>\u001b[0;34m\u001b[0m\n\u001b[1;32m     25\u001b[0m \u001b[0mbåndbredde\u001b[0m \u001b[0;34m=\u001b[0m \u001b[0;34m[\u001b[0m\u001b[0;34m]\u001b[0m\u001b[0;34m\u001b[0m\u001b[0;34m\u001b[0m\u001b[0m\n\u001b[1;32m     26\u001b[0m \u001b[0;32mfor\u001b[0m \u001b[0mn\u001b[0m \u001b[0;32min\u001b[0m \u001b[0mrange\u001b[0m\u001b[0;34m(\u001b[0m\u001b[0;36m5\u001b[0m\u001b[0;34m,\u001b[0m\u001b[0;36m100\u001b[0m\u001b[0;34m,\u001b[0m\u001b[0;36m10\u001b[0m\u001b[0;34m)\u001b[0m\u001b[0;34m:\u001b[0m\u001b[0;34m\u001b[0m\u001b[0;34m\u001b[0m\u001b[0m\n\u001b[0;32m---> 27\u001b[0;31m     \u001b[0mbåndbredde\u001b[0m\u001b[0;34m.\u001b[0m\u001b[0mappend\u001b[0m\u001b[0;34m(\u001b[0m \u001b[0mbronn\u001b[0m\u001b[0;34m(\u001b[0m\u001b[0mn\u001b[0m\u001b[0;34m)\u001b[0m\u001b[0;34m[\u001b[0m\u001b[0;36m0\u001b[0m\u001b[0;34m]\u001b[0m \u001b[0;34m)\u001b[0m\u001b[0;34m\u001b[0m\u001b[0;34m\u001b[0m\u001b[0m\n\u001b[0m\u001b[1;32m     28\u001b[0m \u001b[0;34m\u001b[0m\u001b[0m\n\u001b[1;32m     29\u001b[0m \u001b[0mx_b\u001b[0m \u001b[0;34m=\u001b[0m \u001b[0mnp\u001b[0m\u001b[0;34m.\u001b[0m\u001b[0mlinspace\u001b[0m\u001b[0;34m(\u001b[0m\u001b[0;36m5\u001b[0m\u001b[0;34m,\u001b[0m \u001b[0;36m100\u001b[0m\u001b[0;34m,\u001b[0m \u001b[0mlen\u001b[0m\u001b[0;34m(\u001b[0m\u001b[0mbåndbredde\u001b[0m\u001b[0;34m)\u001b[0m\u001b[0;34m)\u001b[0m\u001b[0;34m\u001b[0m\u001b[0;34m\u001b[0m\u001b[0m\n",
      "\u001b[0;32m<ipython-input-13-13f0f2c345ee>\u001b[0m in \u001b[0;36mbronn\u001b[0;34m(n)\u001b[0m\n\u001b[1;32m      7\u001b[0m \u001b[0;34m\u001b[0m\u001b[0m\n\u001b[1;32m      8\u001b[0m     \u001b[0mintervall\u001b[0m \u001b[0;34m=\u001b[0m \u001b[0;36m500\u001b[0m\u001b[0;34m*\u001b[0m\u001b[0;36m2\u001b[0m \u001b[0;34m+\u001b[0m \u001b[0;36m50\u001b[0m\u001b[0;34m*\u001b[0m\u001b[0mn\u001b[0m \u001b[0;34m+\u001b[0m \u001b[0;36m5\u001b[0m\u001b[0;34m*\u001b[0m\u001b[0;34m(\u001b[0m\u001b[0mn\u001b[0m\u001b[0;34m-\u001b[0m\u001b[0;36m1\u001b[0m\u001b[0;34m)\u001b[0m\u001b[0;34m\u001b[0m\u001b[0;34m\u001b[0m\u001b[0m\n\u001b[0;32m----> 9\u001b[0;31m     \u001b[0mlengde\u001b[0m \u001b[0;34m=\u001b[0m \u001b[0momega\u001b[0m\u001b[0;34m*\u001b[0m\u001b[0mintervall\u001b[0m\u001b[0;34m\u001b[0m\u001b[0;34m\u001b[0m\u001b[0m\n\u001b[0m\u001b[1;32m     10\u001b[0m \u001b[0;34m\u001b[0m\u001b[0m\n\u001b[1;32m     11\u001b[0m     \u001b[0mVn\u001b[0m \u001b[0;34m=\u001b[0m \u001b[0mnp\u001b[0m\u001b[0;34m.\u001b[0m\u001b[0mzeros\u001b[0m\u001b[0;34m(\u001b[0m\u001b[0mintervall\u001b[0m\u001b[0;34m)\u001b[0m\u001b[0;34m\u001b[0m\u001b[0;34m\u001b[0m\u001b[0m\n",
      "\u001b[0;31mNameError\u001b[0m: name 'omega' is not defined"
     ]
    }
   ],
   "source": [
    "#Lager fem potensialbrønner\n",
    "\n",
    "#Oda har gjort det\n",
    "#funksjon som returnerer en vektor V_n for n antall brønner (n antall atomer)\n",
    "\n",
    "def bronn(n):\n",
    "    \n",
    "    intervall = 500*2 + 50*n + 5*(n-1) \n",
    "    lengde = w*intervall\n",
    "\n",
    "    Vn = np.zeros(intervall)\n",
    "    \n",
    "    for i in range(500, intervall-500, 55):\n",
    "        Vn[i:i+50] = V_0 \n",
    "\n",
    "    #løser egenverdier\n",
    "    egenverdi = numerisk_TUSL(Vn,intervall,lengde)[0]\n",
    "\n",
    "    #vet at båndbredden til en krystall med n antall brønner er lik E(n-1)- E0.\n",
    "    \n",
    "    bandbredde = egenverdi[n-1] - egenverdi[0]\n",
    "    return bandbredde, egenverdi\n",
    "\n",
    "  \n",
    "båndbredde = []\n",
    "for n in range(5,100,10):\n",
    "    båndbredde.append( bronn(n)[0] )\n",
    "\n",
    "x_b = np.linspace(5, 100, len(båndbredde))\n",
    "print(båndbredde, '\\n', x)\n"
   ]
  },
  {
   "cell_type": "code",
   "execution_count": 14,
   "metadata": {},
   "outputs": [
    {
     "ename": "NameError",
     "evalue": "name 'x_b' is not defined",
     "output_type": "error",
     "traceback": [
      "\u001b[0;31m---------------------------------------------------------------------------\u001b[0m",
      "\u001b[0;31mNameError\u001b[0m                                 Traceback (most recent call last)",
      "\u001b[0;32m<ipython-input-14-1253330e82bb>\u001b[0m in \u001b[0;36m<module>\u001b[0;34m\u001b[0m\n\u001b[1;32m      2\u001b[0m \u001b[0mplt\u001b[0m\u001b[0;34m.\u001b[0m\u001b[0mfigure\u001b[0m\u001b[0;34m(\u001b[0m\u001b[0;34m)\u001b[0m\u001b[0;34m\u001b[0m\u001b[0;34m\u001b[0m\u001b[0m\n\u001b[1;32m      3\u001b[0m \u001b[0mplt\u001b[0m\u001b[0;34m.\u001b[0m\u001b[0mtitle\u001b[0m\u001b[0;34m(\u001b[0m\u001b[0;34m\"Båndbredden for potensialbrønner med n=5 til n= 100 brønner\"\u001b[0m\u001b[0;34m)\u001b[0m\u001b[0;34m\u001b[0m\u001b[0;34m\u001b[0m\u001b[0m\n\u001b[0;32m----> 4\u001b[0;31m \u001b[0mplt\u001b[0m\u001b[0;34m.\u001b[0m\u001b[0mplot\u001b[0m\u001b[0;34m(\u001b[0m\u001b[0mx_b\u001b[0m\u001b[0;34m,\u001b[0m \u001b[0mbåndbredde\u001b[0m\u001b[0;34m)\u001b[0m\u001b[0;34m\u001b[0m\u001b[0;34m\u001b[0m\u001b[0m\n\u001b[0m\u001b[1;32m      5\u001b[0m \u001b[0mplt\u001b[0m\u001b[0;34m.\u001b[0m\u001b[0mxlabel\u001b[0m\u001b[0;34m(\u001b[0m\u001b[0;34m\"antall brønner\"\u001b[0m\u001b[0;34m)\u001b[0m\u001b[0;34m\u001b[0m\u001b[0;34m\u001b[0m\u001b[0m\n\u001b[1;32m      6\u001b[0m \u001b[0mplt\u001b[0m\u001b[0;34m.\u001b[0m\u001b[0mylabel\u001b[0m\u001b[0;34m(\u001b[0m\u001b[0;34m\"Energinivå (eV)\"\u001b[0m\u001b[0;34m)\u001b[0m\u001b[0;34m\u001b[0m\u001b[0;34m\u001b[0m\u001b[0m\n",
      "\u001b[0;31mNameError\u001b[0m: name 'x_b' is not defined"
     ]
    },
    {
     "data": {
      "image/png": "[encoded data removed]",
      "text/plain": [
       "<Figure size 432x288 with 1 Axes>"
      ]
     },
     "metadata": {
      "needs_background": "light"
     },
     "output_type": "display_data"
    }
   ],
   "source": [
    "#plotter båndbredden\n",
    "plt.figure()\n",
    "plt.title(\"Båndbredden for potensialbrønner med n=5 til n= 100 brønner\")\n",
    "plt.plot(x_b, båndbredde)\n",
    "plt.xlabel(\"antall brønner\")\n",
    "plt.ylabel(\"Energinivå (eV)\")\n",
    "plt.show()\n"
   ]
  },
  {
   "cell_type": "markdown",
   "metadata": {},
   "source": [
    "## Oppgave 4c)\n",
    "\n",
    "Antar plass til 4N elektroner i krystallet og 2n orbitaler i hvert skall (1 m. spinn opp og 2 m. spinn ned).\n",
    "\n",
    "Velg et hvilket som helst tall for n (antall brønner)\n",
    "Hva blir energien til de to elektronene med høyest energi?\n",
    "Hvor stor er energiavstanden derfra og opp til nærmeste ledige tilstand  (= båndgap) ? \n",
    "Finn ut om krystallen er en isolator eller en halvleder.\n",
    "\n",
    "Manuell utregning:\n",
    "\n",
    "Velger en krystall med 6 antall brønner. Da har vi totalt plass til 24elektroner i krystallet.\n",
    "Da fylles 12 orbitaler med elektroner, dvs. E_11 er høyest elektronenergi i krystallet.\n",
    "Båndgapet (= energiavstand derfra og opp til nærmeste ledige tilstand E_12) = 0.7 eV. \n",
    "Det vil si at et krystall på 6 atomer (brønner) er en halvleder. \n"
   ]
  },
  {
   "cell_type": "markdown",
   "metadata": {},
   "source": [
    "## Oppgave 4d)\n",
    "\n",
    "Antar a er en gitterkonstant (avstanden fra midten av to nabobrønner)\n",
    "Plott to sett med ulik antall brønner, plott bølgefunksjonen og sjekk for symmetri \n",
    "\n"
   ]
  },
  {
   "cell_type": "code",
   "execution_count": null,
   "metadata": {},
   "outputs": [],
   "source": []
  },
  {
   "cell_type": "code",
   "execution_count": null,
   "metadata": {},
   "outputs": [],
   "source": [
    "Ved å se på plottene over de numerisk bundne egenfunksjonene, ser man at grunntilstanden er symmetrisk uten nullpunkter, 1. eksiterte tilstand er antisymmetrisk med 1 nullpunkt osv., slik som forventet. \n",
    "Vi ser at vi har tre bundne tilstander, slik vi ønsket. \n",
    "Vi vet at ved bunde tilstander inne i brønnen vil $E_j < 0$, j = 1,2,3, altså vil funksjonen krumme mot x-aksen slik man ser egenfunksjonene for de tre første tilstandene gjør. \n",
    "I det klassisk forbudte området, som er ved veggene til brønnen, skal egenfunksjonen krumme bort fra x-aksen. \n",
    "Det ser vi at er tilfelle for egenfunksjonen i de tre første tilstandene. \n",
    "Et annet element vi kan merke oss er at bølgelengden til egenfunksjonene minker ved økende energinivå. Dette stemmer med teorien om at økende energi impliserer kortere bølgelengde. Disse observasjoenen er med på å bekrefte at de numeriske egenfunksjonene har fornuftige egenskaper i forhold til det som er forventet. \n",
    "\n",
    "For å bestemme antall bundne tilstander i en endelig potensialbrønn har vi tatt i bruk PCH 3.33.\n",
    "\n",
    "FORMEL 3.33\n",
    "\n",
    "\n",
    "For en brønn med dybde V_{0} og dybde\n",
    "\n",
    "For å sammenligne de numeriske energinivåene med de analytiske for bundne har vi brukt formelen PCH 3.29\n",
    "\n",
    "\\begin{equation}\n",
    "\\tan{\\sqrt {2m l^2 \\hbar^{-2} E}} = \\left\\{\n",
    "\\begin{array}{cc}\n",
    "    \\begin{array}{cc}\n",
    "      \\sqrt{\\frac{\\mid V_{0}\\mid -E}{E}} & symmetriske \\: \\psi \\\\\n",
    "      -\\sqrt{\\frac{E}{V_0 - E}} & antisymmetriske \\: \\psi \\\\\n",
    "    \\end{array}\n",
    "\\end{array}\n",
    "\\right.\n",
    "\\end{equation}\n",
    "\n",
    "og satt inn egenverdiene $E_j$, j = 1,2,3. Vi får det samme på høyre side som på venstre side av ligningen, altså kan vi konkludere med at de numeriske energinivåene stemmer overrens med de analytiske verdiene for $E$. \n",
    "\n",
    "I plottet av potensialbrønnen med energinivåene har vi plottet energinivåer fra 4 til 15. Vi ser at vi har et kvasikontinuerlig spekter ettersom at energinivåene der $E > 0$ er tilnærmet kontinuerlig. \n",
    "\n",
    "Vi har sett nærmere på engenverdi og egenfunksjon i 3.eksiterte tilstand, en ubundnen tilstand, og beregnet bølgelengden utenfor og i brønnen. \n",
    "    På øyemål ser det ut som at dette stemmer med bølgelengdene til den 3.eksiterte, ubundne tilstanden i og utenfor brønnen."
   ]
  },
  {
   "cell_type": "code",
   "execution_count": null,
   "metadata": {},
   "outputs": [],
   "source": []
  },
  {
   "cell_type": "code",
   "execution_count": null,
   "metadata": {},
   "outputs": [],
   "source": []
  },
  {
   "cell_type": "code",
   "execution_count": null,
   "metadata": {},
   "outputs": [],
   "source": []
  }
 ],
 "metadata": {
  "kernelspec": {
   "display_name": "Python 3",
   "language": "python",
   "name": "python3"
  },
  "language_info": {
   "codemirror_mode": {
    "name": "ipython",
    "version": 3
   },
   "file_extension": ".py",
   "mimetype": "text/x-python",
   "name": "python",
   "nbconvert_exporter": "python",
   "pygments_lexer": "ipython3",
   "version": "3.7.1"
  }
 },
 "nbformat": 4,
 "nbformat_minor": 2
}
